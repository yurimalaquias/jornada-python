{
 "cells": [
  {
   "cell_type": "markdown",
   "metadata": {},
   "source": [
    "# Python Insights - Analisando Dados com Python\n",
    "\n",
    "### Case - Cancelamento de Clientes\n",
    "\n",
    "Você foi contratado por uma empresa com mais de 800 mil clientes para um projeto de Dados. Recentemente a empresa percebeu que da sua base total de clientes, a maioria são clientes inativos, ou seja, que já cancelaram o serviço.\n",
    "\n",
    "Precisando melhorar seus resultados ela quer conseguir entender os principais motivos desses cancelamentos e quais as ações mais eficientes para reduzir esse número.\n",
    "\n",
    "Base de dados e arquivos: https://drive.google.com/drive/folders/1uDesZePdkhiraJmiyeZ-w5tfc8XsNYFZ?usp=drive_link"
   ]
  },
  {
   "cell_type": "code",
   "execution_count": null,
   "metadata": {},
   "outputs": [],
   "source": [
    "# Instalar os pacotes diretamente pelo nb\n",
    "# !pip3 install pandas numpy openpyxl plotly nbformat==4.2.0\n",
    "# !pip3 install ipykernel\n",
    "# !pip3 install --upgrade nbformat\n",
    "\n",
    "# Passo a passo do projeto\n",
    "# Passo 1: Importar a base de dados\n",
    "import pandas as pd\n",
    "\n",
    "tabela = pd.read_csv(\"cancelamentos_sample.csv\")\n",
    "# display(tabela)"
   ]
  },
  {
   "cell_type": "code",
   "execution_count": null,
   "metadata": {},
   "outputs": [],
   "source": [
    "# Passo 2: Visualizar a base de dados\n",
    "    # Entende quais informacoes tem disponivel e buscar problemas que vc tem que resolver\n",
    "tabela = tabela.drop(columns=\"CustomerID\")\n",
    "display(tabela)\n",
    "\n",
    "# remover colunas inuteis - informacoes que nao te ajudam, te atrapalham\n",
    "# valores vazios\n"
   ]
  },
  {
   "cell_type": "code",
   "execution_count": null,
   "metadata": {},
   "outputs": [],
   "source": [
    "# Passo 3: Corrigir informacoes da base de dados\n",
    "    # tabela.info mostra informacoes da tabela, como valores vazio, tipo de dados por coluna\n",
    "print(\"### Tabela Info sem correcao das informacoes valores vazios ###\")\n",
    "display(tabela.info())\n",
    "# valores vazios - excluir as linhas que tem valores vazios DROPNA\n",
    "tabela = tabela.dropna()\n",
    "\n",
    "# pode preencher com algum valor utilizando o FILLNA\n",
    "print(\"### Tabela Info apos as correcoes ###\")\n",
    "display(tabela.info())"
   ]
  },
  {
   "cell_type": "code",
   "execution_count": null,
   "metadata": {},
   "outputs": [],
   "source": [
    "# Passo 4: Analise inicial dos cancelamentos\n",
    "    # quantas pessoas cancelaram e quantas nao cancelaram\n",
    "# display(tabela[\"cancelou\"].value_counts()) # faz um count da coluna\n",
    "\n",
    "# faz um count da coluna em percentual normalize\n",
    "# formatar -> .map() toda formatacao vai estar entre:\n",
    "    # - ASPAS e CHAVES \"{}\"\n",
    "    # - DOIS PONTOS significa q vc quer formatar\n",
    "    # - PONTO é pra dizer que tem casa decimal e o numero diz quantas casas\n",
    "    # - % é pra dizer que vc quer formatar em percentual\n",
    "display(tabela[\"cancelou\"].value_counts(normalize=True).map(\"{:.1%}\".format))"
   ]
  },
  {
   "cell_type": "code",
   "execution_count": null,
   "metadata": {},
   "outputs": [],
   "source": [
    "# Passo 5: Analise das causas dos cancelamentos \n",
    "    # graficos / dashboards\n",
    "# !pip3 install plotly\n",
    "\n",
    "import plotly.express as px\n",
    "\n",
    "# criar o grafico\n",
    "for coluna in tabela.columns:\n",
    "    grafico = px.histogram(tabela, x=coluna, color=\"cancelou\")\n",
    "    # exibe o grafico\n",
    "    grafico.show()"
   ]
  },
  {
   "cell_type": "code",
   "execution_count": null,
   "metadata": {},
   "outputs": [],
   "source": [
    "# clientes do contrato mensal sempre cancelam\n",
    "    # oferecer desconto nos planos anuais e trimestrais\n",
    "tabela = tabela[tabela[\"duracao_contrato\"]!=\"Monthly\"]\n",
    "# Conclusao: 10% dos cancelamentos vem de clientes com assinatura mensal.\n",
    "    # Valor sem a condicao = 56% = reducao de 10% nos cancelamentos\n",
    "\n",
    "# clientes que ligam mais de 5x no call center cancelam\n",
    "    # criar um processo para resolver o problema do cliente em no maximo 3 ligacoes\n",
    "tabela = tabela[tabela[\"ligacoes_callcenter\"]<=4]\n",
    "\n",
    "# clientes que atrasaram mais de 20 dias, cancelaram\n",
    "    # politica de resolver atraso em ate 10 dias (equipe financeira)\n",
    "tabela = tabela[tabela[\"dias_atraso\"]<=20]\n",
    "\n",
    "display(tabela[\"cancelou\"].value_counts())\n",
    "# em percentual\n",
    "display(tabela[\"cancelou\"].value_counts(normalize=True).map(\"{:.1%}\".format))\n",
    "\n",
    "# Conclusao: Utilizando essas 3 abordagens o total de cancelamento passaria de 56% para 18%.\n"
   ]
  }
 ],
 "metadata": {
  "kernelspec": {
   "display_name": "base",
   "language": "python",
   "name": "python3"
  },
  "language_info": {
   "codemirror_mode": {
    "name": "ipython",
    "version": 3
   },
   "file_extension": ".py",
   "mimetype": "text/x-python",
   "name": "python",
   "nbconvert_exporter": "python",
   "pygments_lexer": "ipython3",
   "version": "3.9.6"
  },
  "orig_nbformat": 4
 },
 "nbformat": 4,
 "nbformat_minor": 2
}
